{
 "cells": [
  {
   "cell_type": "code",
   "execution_count": null,
   "metadata": {
    "scrolled": true
   },
   "outputs": [],
   "source": [
    "from IPython.core.display import display, HTML\n",
    "import pandas as pd\n",
    "from collections import OrderedDict\n",
    "from datetime import date\n",
    "\n",
    "from ml import *\n",
    "pd.set_option('display.max_colwidth', -1)\n",
    "display.border = 2\n",
    "\n",
    "\n",
    "############### PARAMETROS DE LA BUSQUEDA #######################################################\n",
    "product = 'cubiert' # NOMBRE DEL PRODUCTO A BUSCAR\n",
    "\n",
    "facturation = 50000 # solo mostrar cuando cantidad * precio > facturation\n",
    "\n",
    "min_price_list = (1,2000,10000) # rango de precios minimos\n",
    "max_price_list = (2000,10000,20000) # rango de precios maximos\n",
    "\n",
    "categorias =  { \"id\": \"MLA5725\", \"name\": \"Accesorios para Vehículos\" }, { \"id\": \"MLA1403\", \"name\": \"Alimentos y Bebidas\" }, { \"id\": \"MLA1071\", \"name\": \"Animales y Mascotas\" }, { \"id\": \"MLA1367\", \"name\": \"Antigüedades\" }, { \"id\": \"MLA1368\", \"name\": \"Arte y Artesanías\" }, { \"id\": \"MLA1743\", \"name\": \"Autos, Motos y Otros\" }, { \"id\": \"MLA1384\", \"name\": \"Bebés\" }, { \"id\": \"MLA1246\", \"name\": \"Belleza y Cuidado Personal\" }, { \"id\": \"MLA1039\", \"name\": \"Cámaras y Accesorios\" }, { \"id\": \"MLA1051\", \"name\": \"Celulares y Teléfonos\" }, { \"id\": \"MLA1798\", \"name\": \"Coleccionables y Hobbies\" }, { \"id\": \"MLA1648\", \"name\": \"Computación\" }, { \"id\": \"MLA1144\", \"name\": \"Consolas y Videojuegos\" }, { \"id\": \"MLA1276\", \"name\": \"Deportes y Fitness\" }, { \"id\": \"MLA5726\", \"name\": \"Electrodomésticos y Aires Ac.\" }, { \"id\": \"MLA1000\", \"name\": \"Electrónica, Audio y Video\" }, { \"id\": \"MLA2547\", \"name\": \"Entradas para Eventos\" }, { \"id\": \"MLA407134\", \"name\": \"Herramientas y Construcción\" }, { \"id\": \"MLA1574\", \"name\": \"Hogar, Muebles y Jardín\" }, { \"id\": \"MLA1499\", \"name\": \"Industrias y Oficinas\" }, { \"id\": \"MLA1459\", \"name\": \"Inmuebles\" }, { \"id\": \"MLA1182\", \"name\": \"Instrumentos Musicales\" }, { \"id\": \"MLA3937\", \"name\": \"Joyas y Relojes\" }, { \"id\": \"MLA1132\", \"name\": \"Juegos y Juguetes\" }, { \"id\": \"MLA3025\", \"name\": \"Libros, Revistas y Comics\" }, { \"id\": \"MLA1168\", \"name\": \"Música, Películas y Series\" }, { \"id\": \"MLA1430\", \"name\": \"Ropa y Accesorios\" }, { \"id\": \"MLA409431\", \"name\": \"Salud y Equipamiento Médico\" }, { \"id\": \"MLA1540\", \"name\": \"Servicios\" }, { \"id\": \"MLA1953\", \"name\": \"Otras categorías\"}\n",
    "############# FIN PARAMETROS DE BUSQUEDA #####################################################\n",
    "\n",
    "df_final = get_dataframe_from_search(product,categorias,min_price_list,max_price_list,facturation)\n",
    "\n",
    "display(HTML(df_final.loc[:, ['title', 'listing_type_id','price','sold_quantity','total','state','city','thumbnail','permalink','seller_id','free_shipping']].sort_values('total',ascending=False).to_html(border=1, escape=False ,formatters=dict(thumbnail=path_to_image_html,permalink=path_to_link_html))))\n"
   ]
  },
  {
   "cell_type": "markdown",
   "metadata": {},
   "source": [
    "Solo usar lo proximo cuando la cantidad encontrada es baja ( < 200 ) para una busqueda precisa en la cantidad"
   ]
  },
  {
   "cell_type": "code",
   "execution_count": null,
   "metadata": {},
   "outputs": [],
   "source": [
    "# correccion precisa de la cantidad, solo usar para valores bajos de articulos encontrados\n",
    "#df_final['sold_quantity'] = df_final.apply(lambda row: retrieve_sold_from_link(row['permalink']) , axis=1)\n",
    "#df_final['total'] = df_final['price'] * df_final['sold_quantity']\n",
    "#display(HTML(df_final.loc[:, ['title', 'listing_type_id','price','sold_quantity','total','state','city','thumbnail','permalink','seller_id','free_shipping']].sort_values('total',ascending=False).to_html(border=1, escape=False ,formatters=dict(thumbnail=path_to_image_html,permalink=path_to_link_html))))"
   ]
  }
 ],
 "metadata": {
  "kernelspec": {
   "display_name": "Python 3",
   "language": "python",
   "name": "python3"
  },
  "language_info": {
   "codemirror_mode": {
    "name": "ipython",
    "version": 3
   },
   "file_extension": ".py",
   "mimetype": "text/x-python",
   "name": "python",
   "nbconvert_exporter": "python",
   "pygments_lexer": "ipython3",
   "version": "3.8.2"
  }
 },
 "nbformat": 4,
 "nbformat_minor": 2
}
